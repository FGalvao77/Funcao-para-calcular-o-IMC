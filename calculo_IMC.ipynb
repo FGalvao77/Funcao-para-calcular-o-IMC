{
 "cells": [
  {
   "cell_type": "markdown",
   "metadata": {},
   "source": [
    "### **Função para calcular o _IMC_**\n",
    "---"
   ]
  },
  {
   "cell_type": "code",
   "execution_count": 1,
   "metadata": {},
   "outputs": [],
   "source": [
    "def calculo_IMC():\n",
    "    altura = float(input('Digite sua altura (m): '))\n",
    "    peso = float(input('Digite seu peso (kg): '))\n",
    "    IMC = round(peso / (altura ** 2), 2)\n",
    "\n",
    "    '''\n",
    "    Tabela de resultados - IMC\n",
    "    O IMC pode trazer os seguintes resultados:\n",
    "\n",
    "    IMC\t                Resultado\n",
    "    Menos do que 18,5\tAbaixo do peso\n",
    "    Entre 18,5 e 24,9\tPeso normal\n",
    "    Entre 25 e 29,9\t    Sobrepeso\n",
    "    Entre 30 e 34,9\t    Obesidade grau 1\n",
    "    Entre 35 e 39,9\t    Obesidade grau 2\n",
    "    Mais do que 40\t    Obesidade grau 3\n",
    "    '''\n",
    "\n",
    "    if IMC < 18.5:\n",
    "        print(f'\\nIMC é: {IMC} | Abaixo do peso')\n",
    "    elif IMC >= 18.5 and IMC <= 24.9:\n",
    "        print(f'\\nIMC é: {IMC} | Peso Normal')\n",
    "    elif IMC >= 25.0 and IMC <= 29.9:\n",
    "        print(f'\\nIMC é: {IMC} | Sobrepeso')\n",
    "    elif IMC >= 30.0 and IMC <= 34.9:\n",
    "        print(f'\\nIMC é: {IMC} | Obesidade grau 1')\n",
    "    elif IMC >= 35.0 and IMC <= 39.9:\n",
    "        print(f'\\nIMC é: {IMC} | Obesidade grau 2')\n",
    "    else:\n",
    "        print(f'\\nIMC é: {IMC} | Obesidade grau 3')"
   ]
  },
  {
   "cell_type": "code",
   "execution_count": 2,
   "metadata": {},
   "outputs": [
    {
     "name": "stdout",
     "output_type": "stream",
     "text": [
      "\n",
      "IMC é: 29.76 | Sobrepeso\n"
     ]
    }
   ],
   "source": [
    "calculo_IMC()"
   ]
  },
  {
   "cell_type": "code",
   "execution_count": 3,
   "metadata": {},
   "outputs": [],
   "source": [
    "def calculo_IMC():\n",
    "    altura = float(input('Digite sua altura (m): '))\n",
    "    peso = float(input('Digite seu peso (kg): '))\n",
    "    IMC = round(peso / (altura ** 2), 2)\n",
    "\n",
    "    '''\n",
    "    Tabela de resultados - IMC\n",
    "    O IMC pode trazer os seguintes resultados:\n",
    "\n",
    "    IMC\t                Resultado\n",
    "    Menos do que 18,5\tAbaixo do peso\n",
    "    Entre 18,5 e 24,9\tPeso normal\n",
    "    Entre 25 e 29,9\t    Sobrepeso\n",
    "    Entre 30 e 34,9\t    Obesidade grau 1\n",
    "    Entre 35 e 39,9\t    Obesidade grau 2\n",
    "    Mais do que 40\t    Obesidade grau 3\n",
    "    '''\n",
    "\n",
    "    if IMC < 18.5:\n",
    "        print(f'\\nIMC é: {IMC} | Abaixo do peso')\n",
    "    elif 18.5 <= IMC <= 24.9:\n",
    "        print(f'\\nIMC é: {IMC} | Peso Normal')\n",
    "    elif 25.0 <= IMC <= 29.9:\n",
    "        print(f'\\nIMC é: {IMC} | Sobrepeso')\n",
    "    elif 30.0 <= IMC <= 34.9:\n",
    "        print(f'\\nIMC é: {IMC} | Obesidade grau 1')\n",
    "    elif 35.0 <= IMC <= 39.9:\n",
    "        print(f'\\nIMC é: {IMC} | Obesidade grau 2')\n",
    "    else:\n",
    "        print(f'\\nIMC é: {IMC} | Obesidade grau 3')"
   ]
  },
  {
   "cell_type": "code",
   "execution_count": 4,
   "metadata": {},
   "outputs": [
    {
     "name": "stdout",
     "output_type": "stream",
     "text": [
      "\n",
      "IMC é: 29.76 | Sobrepeso\n"
     ]
    }
   ],
   "source": [
    "calculo_IMC()"
   ]
  },
  {
   "cell_type": "code",
   "execution_count": null,
   "metadata": {},
   "outputs": [],
   "source": []
  },
  {
   "cell_type": "code",
   "execution_count": null,
   "metadata": {},
   "outputs": [],
   "source": []
  }
 ],
 "metadata": {
  "interpreter": {
   "hash": "6bafd6474ce4b62c03605d0b33fc5128bd027b02227412e991dce6264322d045"
  },
  "kernelspec": {
   "display_name": "Python 3.9.10 64-bit (windows store)",
   "language": "python",
   "name": "python3"
  },
  "language_info": {
   "codemirror_mode": {
    "name": "ipython",
    "version": 3
   },
   "file_extension": ".py",
   "mimetype": "text/x-python",
   "name": "python",
   "nbconvert_exporter": "python",
   "pygments_lexer": "ipython3",
   "version": "3.9.10"
  },
  "orig_nbformat": 4
 },
 "nbformat": 4,
 "nbformat_minor": 2
}
